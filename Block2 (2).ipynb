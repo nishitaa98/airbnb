{
 "cells": [
  {
   "cell_type": "markdown",
   "id": "b7f384db-9707-4ef1-b295-b64d98e43510",
   "metadata": {},
   "source": [
    "__CST4070 - BLOCK 2 CHALLENEGE__\n",
    "--\n",
    "__Nishita Chaudhary - M00977896__\n",
    "--"
   ]
  },
  {
   "cell_type": "code",
   "execution_count": 462,
   "id": "e909fdcf-4662-42c4-aef3-62a05f1265cb",
   "metadata": {},
   "outputs": [],
   "source": [
    "#Importing the python libraries\n",
    "import pandas as pd #Creates a data frame, gives structure to the data and gives data analysis.\n",
    "import matplotlib.pyplot as plt #graphs for data visulalization\n",
    "import seaborn as sns #for graphs\n",
    "import numpy as np #Numerical computing for multi-dimension array\n",
    "from sklearn.model_selection import train_test_split #Used to split into training and testing datasets\n",
    "from sklearn.preprocessing import LabelEncoder, StandardScaler #convert categorical data into numerical format \n",
    "#and StandardScaler #Tranforms the numerical data mean = 0 and variance = 1\n",
    "from sklearn.linear_model import LogisticRegression #Logistic Regression model\n",
    "from sklearn.metrics import accuracy_score, classification_report, confusion_matrix #model performance and overall accuracy and confusion matrix"
   ]
  },
  {
   "cell_type": "markdown",
   "id": "dca27427-2e64-4120-84dc-77f179e3616a",
   "metadata": {},
   "source": [
    "The dataset in .csv format with \"87946\" rows and \"75\" columns.\n",
    "In excel, from name column extract bedroom, property type and beds values using excel formula-\n",
    "\n",
    "1.Bathroom =IFERROR(VALUE(LEFT(A1, SEARCH(\" \", A1 & \" \") - 1)), \"\") \r",
    "2.Bedroom =IFERROR(VALUE(MID(F2, SEARCH(\"bedroom\", F2) - 2, 1)), \"\"))The blank values were 1 which is extracted from name column.\n",
    "3.property type =TRIM(MID(F2, 1, SEARCH(\" in\", F2) - 1e \r\n",
    "y"
   ]
  },
  {
   "cell_type": "code",
   "execution_count": 481,
   "id": "0314ad3b-0aa7-429d-a19b-c0917fb1d7f2",
   "metadata": {},
   "outputs": [
    {
     "name": "stderr",
     "output_type": "stream",
     "text": [
      "<ipython-input-481-e2c1a1731260>:2: DtypeWarning: Columns (68) have mixed types. Specify dtype option on import or set low_memory=False.\n",
      "  df = pd.read_csv('listing_original.csv')\n"
     ]
    },
    {
     "data": {
      "text/plain": [
       "(87946, 75)"
      ]
     },
     "execution_count": 481,
     "metadata": {},
     "output_type": "execute_result"
    }
   ],
   "source": [
    "#Loading the listing dataset using pandas library\n",
    "df = pd.read_csv('listing_original.csv')\n",
    "pd.set_option('display.max_colwidth', 0) #sets maximum width for displaying DataFrame columns to unlimited\n",
    "df.shape"
   ]
  },
  {
   "cell_type": "code",
   "execution_count": 464,
   "id": "7d22847d-a67d-4d1f-83fa-b5fd4d5d82b6",
   "metadata": {},
   "outputs": [
    {
     "name": "stdout",
     "output_type": "stream",
     "text": [
      "<class 'pandas.core.frame.DataFrame'>\n",
      "RangeIndex: 87946 entries, 0 to 87945\n",
      "Data columns (total 75 columns):\n",
      " #   Column                                        Non-Null Count  Dtype  \n",
      "---  ------                                        --------------  -----  \n",
      " 0   id                                            87946 non-null  float64\n",
      " 1   listing_url                                   87946 non-null  object \n",
      " 2   scrape_id                                     87946 non-null  float64\n",
      " 3   last_scraped                                  87946 non-null  object \n",
      " 4   source                                        87946 non-null  object \n",
      " 5   name                                          87946 non-null  object \n",
      " 6   property_type                                 87946 non-null  object \n",
      " 7   description                                   86679 non-null  object \n",
      " 8   neighborhood_overview                         47190 non-null  object \n",
      " 9   picture_url                                   87943 non-null  object \n",
      " 10  host_id                                       87946 non-null  int64  \n",
      " 11  host_url                                      87946 non-null  object \n",
      " 12  host_name                                     87941 non-null  object \n",
      " 13  host_since                                    87941 non-null  object \n",
      " 14  host_location                                 69168 non-null  object \n",
      " 15  host_about                                    45906 non-null  object \n",
      " 16  host_response_time                            59028 non-null  object \n",
      " 17  host_response_rate                            59028 non-null  object \n",
      " 18  host_acceptance_rate                          62758 non-null  object \n",
      " 19  host_is_superhost                             87014 non-null  object \n",
      " 20  host_thumbnail_url                            87941 non-null  object \n",
      " 21  host_picture_url                              87941 non-null  object \n",
      " 22  host_neighbourhood                            48079 non-null  object \n",
      " 23  host_listings_count                           87941 non-null  float64\n",
      " 24  host_total_listings_count                     87941 non-null  float64\n",
      " 25  host_verifications                            87941 non-null  object \n",
      " 26  host_has_profile_pic                          87941 non-null  object \n",
      " 27  host_identity_verified                        87941 non-null  object \n",
      " 28  neighbourhood                                 47191 non-null  object \n",
      " 29  neighbourhood_cleansed                        87946 non-null  object \n",
      " 30  neighbourhood_group_cleansed                  0 non-null      float64\n",
      " 31  latitude                                      87946 non-null  float64\n",
      " 32  longitude                                     87946 non-null  float64\n",
      " 33  room_type                                     87946 non-null  object \n",
      " 34  accommodates                                  87946 non-null  int64  \n",
      " 35  bedrooms                                      84309 non-null  float64\n",
      " 36  bathrooms                                     87439 non-null  float64\n",
      " 37  bathrooms_text                                87843 non-null  object \n",
      " 38  beds                                          86812 non-null  float64\n",
      " 39  amenities                                     87946 non-null  object \n",
      " 40  price                                         87946 non-null  object \n",
      " 41  minimum_nights                                87946 non-null  int64  \n",
      " 42  maximum_nights                                87946 non-null  int64  \n",
      " 43  minimum_minimum_nights                        87945 non-null  float64\n",
      " 44  maximum_minimum_nights                        87945 non-null  float64\n",
      " 45  minimum_maximum_nights                        87945 non-null  float64\n",
      " 46  maximum_maximum_nights                        87945 non-null  float64\n",
      " 47  minimum_nights_avg_ntm                        87945 non-null  float64\n",
      " 48  maximum_nights_avg_ntm                        87945 non-null  float64\n",
      " 49  calendar_updated                              0 non-null      float64\n",
      " 50  has_availability                              87946 non-null  object \n",
      " 51  availability_30                               87946 non-null  int64  \n",
      " 52  availability_60                               87946 non-null  int64  \n",
      " 53  availability_90                               87946 non-null  int64  \n",
      " 54  availability_365                              87946 non-null  int64  \n",
      " 55  calendar_last_scraped                         87946 non-null  object \n",
      " 56  number_of_reviews                             87946 non-null  int64  \n",
      " 57  number_of_reviews_ltm                         87946 non-null  int64  \n",
      " 58  number_of_reviews_l30d                        87946 non-null  int64  \n",
      " 59  first_review                                  65788 non-null  object \n",
      " 60  last_review                                   65788 non-null  object \n",
      " 61  review_scores_rating                          65788 non-null  float64\n",
      " 62  review_scores_accuracy                        64853 non-null  float64\n",
      " 63  review_scores_cleanliness                     64865 non-null  float64\n",
      " 64  review_scores_checkin                         64821 non-null  float64\n",
      " 65  review_scores_communication                   64851 non-null  float64\n",
      " 66  review_scores_location                        64821 non-null  float64\n",
      " 67  review_scores_value                           64820 non-null  float64\n",
      " 68  license                                       1 non-null      object \n",
      " 69  instant_bookable                              87946 non-null  object \n",
      " 70  calculated_host_listings_count                87946 non-null  int64  \n",
      " 71  calculated_host_listings_count_entire_homes   87946 non-null  int64  \n",
      " 72  calculated_host_listings_count_private_rooms  87946 non-null  int64  \n",
      " 73  calculated_host_listings_count_shared_rooms   87946 non-null  int64  \n",
      " 74  reviews_per_month                             65788 non-null  float64\n",
      "dtypes: float64(25), int64(15), object(35)\n",
      "memory usage: 50.3+ MB\n"
     ]
    }
   ],
   "source": [
    "#Displaying the dataset information checking the datatype and null values\n",
    "df.info()"
   ]
  },
  {
   "cell_type": "markdown",
   "id": "05ab8648-c532-4637-85cf-73a64d94914b",
   "metadata": {},
   "source": [
    "From the above table, \n",
    "The indexRange is from 0 to 87946.\n",
    "The datatypes are mixed containing object, int and float.ALso they containing null or missing values.Which can be futher preprocessed for analysis\n",
    "The price column appears to be of type object.Additionalyy having \"$\" sign in it.\n",
    "Some uncessary columns are present like description , picture_url, host_id,host_thumbnail_url etc. which are not considered for analysis."
   ]
  },
  {
   "cell_type": "markdown",
   "id": "4369c209-99ba-4a18-979c-35bb67f8bb9e",
   "metadata": {},
   "source": [
    "__Data Preprocessing__\n",
    "--"
   ]
  },
  {
   "cell_type": "code",
   "execution_count": 465,
   "id": "f43103f0-3361-4e28-9736-af72a93a8b7a",
   "metadata": {},
   "outputs": [
    {
     "name": "stdout",
     "output_type": "stream",
     "text": [
      "Index(['neighbourhood_group_cleansed', 'calendar_updated', 'license'], dtype='object')\n",
      "(87946, 72)\n"
     ]
    }
   ],
   "source": [
    "#Dropping colums which are have more than 80% null values\n",
    "drop_cols = df.columns[df.isnull().sum()/df.shape[0] > 0.8]\n",
    "print(drop_cols)\n",
    "df.drop(drop_cols, axis=1, inplace=True)\n",
    "drop_cols\n",
    "print(df.shape)"
   ]
  },
  {
   "cell_type": "raw",
   "id": "a6ec7152-cbc3-4a80-9215-47757657126c",
   "metadata": {},
   "source": [
    "3 columns are dropped which conatins more than 80% null data"
   ]
  },
  {
   "cell_type": "code",
   "execution_count": 466,
   "id": "819cd577-d12d-4790-973b-3cefa0193303",
   "metadata": {},
   "outputs": [],
   "source": [
    "#Removing '$' from price and converting it to float datatype.\n",
    "df['price'] = df['price'].replace('[\\$,]', '', regex=True)\n",
    "df['price'] = df['price'].astype(float)"
   ]
  },
  {
   "cell_type": "code",
   "execution_count": 467,
   "id": "7b4afdfd-e5ce-4fb7-a142-6b87aaaaeed7",
   "metadata": {},
   "outputs": [],
   "source": [
    "#Dealing with null values of 'room_type', 'accommodates', 'bedrooms', 'bathrooms', 'bathrooms_text', 'beds', 'amenities', 'price' etc.\n",
    "#No needed to convert the datatype.\n",
    "df['bedrooms'].fillna(0, inplace=True)  # Replace with 0 as it have only studio room can be seen in name column\n",
    "df['bathrooms'].fillna(0, inplace=True)#Replacing with 0 as there is no info given in the name column\n",
    "df['bathrooms'].fillna(0, inplace=True)\n",
    "df['beds'].fillna(0, inplace=True) #Replacing with 0 as there is no info givin in the name column\n",
    "df['number_of_reviews'].fillna(df['number_of_reviews'].mean(), inplace=True) \n",
    "#Replacing missing values with the mean \n",
    "df['reviews_per_month'].fillna(df['reviews_per_month'].mean(), inplace=True) \n",
    "#Filling the null values with 0\n",
    "df['host_total_listings_count'].fillna(0, inplace=True)\n",
    "df['host_is_superhost'].fillna(df['host_is_superhost'].mode()[0], inplace=True)\n",
    "df['neighbourhood'] = df['neighbourhood'].fillna('Unknown')"
   ]
  },
  {
   "cell_type": "markdown",
   "id": "83ef1f27-5c25-4ca3-bc2b-8512f7cfd43e",
   "metadata": {},
   "source": [
    "Deriving new average review score column: Taking all the review score and combining it by overall mean of review score.this gives a brief summary of overall review score.Replacing missing values with the mean. "
   ]
  },
  {
   "cell_type": "code",
   "execution_count": 468,
   "id": "6725a07b-e524-4248-88d7-7537f4085d90",
   "metadata": {},
   "outputs": [
    {
     "name": "stdout",
     "output_type": "stream",
     "text": [
      "0        4.680000\n",
      "1        4.788571\n",
      "2        4.740000\n",
      "3        4.844286\n",
      "4        4.665714\n",
      "           ...   \n",
      "87941    4.688963\n",
      "87942    4.688963\n",
      "87943    4.688963\n",
      "87944    4.688963\n",
      "87945    4.688963\n",
      "Name: average_score_review, Length: 87946, dtype: float64\n",
      "(87946, 73)\n"
     ]
    }
   ],
   "source": [
    "review_score_columns = ['review_scores_rating', 'review_scores_accuracy', 'review_scores_cleanliness',\n",
    "                  'review_scores_checkin', 'review_scores_communication', 'review_scores_location',\n",
    "                  'review_scores_value']\n",
    "for c in review_score_columns:\n",
    "    df[c].fillna(df[c].mean(), inplace=True)\n",
    "df['average_score_review'] = df[review_score_columns].mean(axis=1)\n",
    "print(df['average_score_review'])\n",
    "print(df.shape)"
   ]
  },
  {
   "cell_type": "markdown",
   "id": "f072cd06-fa28-4cb6-8ab7-4fd6c3eaa10a",
   "metadata": {},
   "source": [
    "__Columns Selecting__\n",
    "--"
   ]
  },
  {
   "cell_type": "code",
   "execution_count": 469,
   "id": "c13a7992-1de3-42da-808c-ce7bfef24719",
   "metadata": {},
   "outputs": [
    {
     "data": {
      "image/png": "[encoded data removed]",
      "text/plain": [
       "<Figure size 864x576 with 2 Axes>"
      ]
     },
     "metadata": {
      "needs_background": "light"
     },
     "output_type": "display_data"
    }
   ],
   "source": [
    "#Correlation matrix for minimun night\n",
    "nights = ['minimum_nights', 'maximum_nights',\n",
    "       'minimum_minimum_nights', 'maximum_minimum_nights',\n",
    "       'minimum_maximum_nights', 'maximum_maximum_nights',\n",
    "       'minimum_nights_avg_ntm', 'maximum_nights_avg_ntm']\n",
    "\n",
    "#Calculating the correlation matrix for the nights columns\n",
    "corr_matrix_night = df[nights].corr()\n",
    "#Creating a heatmap\n",
    "plt.figure(figsize=(12, 8))\n",
    "sns.heatmap(corr_matrix_night, annot=True, cmap='coolwarm', linewidths=0.2)\n",
    "plt.title('Correlation Matrix for selected Columns Relating to Minimum and Maximum Nights')\n",
    "plt.show()"
   ]
  },
  {
   "cell_type": "markdown",
   "id": "a014bbd9-d1e7-468b-8bf7-9c793c0a0e0f",
   "metadata": {},
   "source": [
    "Observing the correlation analysis, it's evident that, apart from \"minimum_nights\" and \"maximum_nights,\" all other variables exhibit strong correlations. Therefore, focusing only on \"minimum_nights\" and \"maximum_nights\" for analysis.\n",
    "Select varibles = 'minimum_nights', 'maximum_nights'"
   ]
  },
  {
   "cell_type": "code",
   "execution_count": 470,
   "id": "ed1857be-f57c-4c94-aeea-6e6208843582",
   "metadata": {},
   "outputs": [
    {
     "data": {
      "image/png": "[encoded data removed]",
      "text/plain": [
       "<Figure size 864x576 with 2 Axes>"
      ]
     },
     "metadata": {
      "needs_background": "light"
     },
     "output_type": "display_data"
    }
   ],
   "source": [
    "#Chaecking the correlation matrix for availibity\n",
    "availability = ['availability_30', 'availability_60',\n",
    "       'availability_90', 'availability_365']\n",
    "#Calculating the correlation matrix for availabity columns\n",
    "corr_matrix_available = df[availability].corr()\n",
    "#Creating a heatmap\n",
    "plt.figure(figsize=(12, 8))\n",
    "sns.heatmap(corr_matrix_available, annot=True, cmap='coolwarm', linewidths=0.5)\n",
    "plt.title('Correlation Matrix for availability column')\n",
    "plt.show()"
   ]
  },
  {
   "cell_type": "markdown",
   "id": "87c3cbc4-af63-4691-b317-4164f9221548",
   "metadata": {},
   "source": [
    "\"availability_30,\" \"availability_60,\" and \"availability_90\" clearly show a significant degree of association, according to the correlation matrix. \n",
    "Given this, choosen \"availability_365\" alone in order to capture the annual availability trend."
   ]
  },
  {
   "cell_type": "markdown",
   "id": "4d7c9590-0b07-4d33-ba1b-8023dc1ea3d3",
   "metadata": {},
   "source": [
    "__Data visualization__\n",
    "--"
   ]
  },
  {
   "cell_type": "code",
   "execution_count": 471,
   "id": "e43ca45b-553a-47c6-912a-c81a4e217fd3",
   "metadata": {},
   "outputs": [
    {
     "data": {
      "image/png": "[encoded data removed]",
      "text/plain": [
       "<Figure size 864x576 with 1 Axes>"
      ]
     },
     "metadata": {
      "needs_background": "light"
     },
     "output_type": "display_data"
    }
   ],
   "source": [
    "#Plotting graph with price and differnt room types\n",
    "plt.figure(figsize=(12, 8))\n",
    "sns.barplot(x=\"room_type\", y=\"price\", data=df_no_outliers)\n",
    "plt.title(\"Distribution of Room Types with Respect to Price\")\n",
    "plt.xlabel(\"Room Type\")\n",
    "plt.ylabel(\"Price\")\n",
    "plt.show()"
   ]
  },
  {
   "cell_type": "markdown",
   "id": "c33f634a-1745-419e-9463-56d0e420d83a",
   "metadata": {},
   "source": [
    "Comparable pricing is indicated by the plotted graph, which shows that the average costs for private and shared rooms are similar. On the other hand, hotel rooms are more expensive on average than complete homes or apartments when compared to other room categories."
   ]
  },
  {
   "cell_type": "code",
   "execution_count": 472,
   "id": "8665aa1a-dcf2-403e-9825-a69d03e839fe",
   "metadata": {},
   "outputs": [
    {
     "data": {
      "text/plain": [
       "Text(0.5, 1.0, 'count of property')"
      ]
     },
     "execution_count": 472,
     "metadata": {},
     "output_type": "execute_result"
    },
    {
     "data": {
      "image/png": "[encoded data removed]",
      "text/plain": [
       "<Figure size 1080x360 with 1 Axes>"
      ]
     },
     "metadata": {
      "needs_background": "light"
     },
     "output_type": "display_data"
    }
   ],
   "source": [
    "#Dispalying the top 10 property types\n",
    "plt.figure(figsize = (15,5))\n",
    "sns.countplot(df['property_type'], order = df.property_type.value_counts().iloc[:10].index)\n",
    "plt.xlabel(\"property count\")\n",
    "plt.ylabel(\"Property names\", fontsize = 'large')\n",
    "plt.title(\"count of property\")"
   ]
  },
  {
   "cell_type": "markdown",
   "id": "809d54cb-6a72-41f4-a178-20e2d0e37ceb",
   "metadata": {},
   "source": [
    "The above graph indicates that, of all the property kinds in the sample, rental units have the highest numbers, indicating a widespread preference for individual rental accommodations over other property types."
   ]
  },
  {
   "cell_type": "markdown",
   "id": "7293b106-65ab-4ebb-91a4-5ea056559ff7",
   "metadata": {},
   "source": [
    "__Feature Importance__"
   ]
  },
  {
   "cell_type": "code",
   "execution_count": 473,
   "id": "63dc0053-82fc-4a18-aadc-283d52effd94",
   "metadata": {},
   "outputs": [
    {
     "data": {
      "image/png": "[encoded data removed]",
      "text/plain": [
       "<Figure size 648x576 with 1 Axes>"
      ]
     },
     "metadata": {
      "needs_background": "light"
     },
     "output_type": "display_data"
    }
   ],
   "source": [
    "#Displaying the average score review with no of review\n",
    "plt.figure(figsize=(9, 8))\n",
    "sns.scatterplot(x='average_score_review', y='number_of_reviews', data=df3)\n",
    "plt.title('Scatter Plot of Reviews Score vs. Number of Reviews ')\n",
    "plt.xlabel('Average Review Score')\n",
    "plt.ylabel('Number of Reviews')\n",
    "plt.show()"
   ]
  },
  {
   "cell_type": "markdown",
   "id": "f92c16b8-2abe-439f-a85a-537c9ccbe10f",
   "metadata": {},
   "source": [
    "The scatter plot shows that most property's with average scores between 4 and 5 have a tendency to have a number of reviews spread from 0 to about 600. This indicates a concentration of positively reviewed properties with varying review counts.\n",
    "The'success_indicator' based on these ranges, taking into consideration the features seen in the scatter plot, where the majority of properties have average scores between 4 and 5, and the number of reviews is scattered across the range of 0 to the midpoint of about 600. Successful properties might include, for example, those with average scores towards the upper end of the 4 to 5 range and a sizable number of reviews up to the required midpoint. This method uses a large number of positive evaluations and feedback to find listings that might be successful.So, considering the averagescore rating as 4.And number of review as 2."
   ]
  },
  {
   "cell_type": "code",
   "execution_count": 474,
   "id": "bff79479-899f-49e1-9168-3f4473eba695",
   "metadata": {},
   "outputs": [
    {
     "name": "stdout",
     "output_type": "stream",
     "text": [
      "181.34981693311806\n"
     ]
    },
    {
     "data": {
      "image/png": "[encoded data removed]",
      "text/plain": [
       "<Figure size 576x432 with 1 Axes>"
      ]
     },
     "metadata": {
      "needs_background": "light"
     },
     "output_type": "display_data"
    }
   ],
   "source": [
    "# Plotting a bar plot for the average price\n",
    "mean_price = df['price'].mean()\n",
    "print(mean_price)\n",
    "plt.figure(figsize=(8, 6))\n",
    "sns.barplot(x=['Average Price'], y=[mean_price], color='skyblue')\n",
    "plt.title('Average Price')\n",
    "plt.ylabel('Price')\n",
    "plt.show()"
   ]
  },
  {
   "cell_type": "markdown",
   "id": "76580d90-b696-4e8c-9016-d1440d199c89",
   "metadata": {},
   "source": [
    "When assessing a listing's attraction, the average price is a key factor. The main trend of the pricing distribution can be understood by computing the mean of the 'price' column. While a lower average price can imply affordability, a higher average price might indicate premium listings.To put it simply, this condition selects rows from the DataFrame only when the 'price' is higher than the average price. By assisting in the identification of listings with prices above the mean, it provides information on the dataset's more expensive places to stay. The values which are greater than 181.34 will be set as a thresold for price."
   ]
  },
  {
   "cell_type": "code",
   "execution_count": 475,
   "id": "6cc39237-2496-4439-bbc0-fc172d09e99f",
   "metadata": {},
   "outputs": [
    {
     "data": {
      "text/plain": [
       "(87946, 16)"
      ]
     },
     "execution_count": 475,
     "metadata": {},
     "output_type": "execute_result"
    }
   ],
   "source": [
    "#From the above analysis the varibles are taken into consideration for analysis \n",
    "df3 = df.loc[:,('accommodates', 'bedrooms', 'bathrooms', 'beds', 'price', 'average_score_review',\n",
    "         'reviews_per_month' ,'number_of_reviews' ,'minimum_nights', 'maximum_nights','availability_365','instant_bookable','has_availability',\n",
    "         'host_total_listings_count','host_is_superhost','neighbourhood_cleansed')]\n",
    "df3.head()\n",
    "df3.shape"
   ]
  },
  {
   "cell_type": "code",
   "execution_count": 476,
   "id": "6a0285d1-cb56-4bf4-98b9-f402c9dd5951",
   "metadata": {},
   "outputs": [
    {
     "data": {
      "text/html": [
       "<div>\n",
       "<style scoped>\n",
       "    .dataframe tbody tr th:only-of-type {\n",
       "        vertical-align: middle;\n",
       "    }\n",
       "\n",
       "    .dataframe tbody tr th {\n",
       "        vertical-align: top;\n",
       "    }\n",
       "\n",
       "    .dataframe thead th {\n",
       "        text-align: right;\n",
       "    }\n",
       "</style>\n",
       "<table border=\"1\" class=\"dataframe\">\n",
       "  <thead>\n",
       "    <tr style=\"text-align: right;\">\n",
       "      <th></th>\n",
       "      <th>Total</th>\n",
       "      <th>Percent of missing</th>\n",
       "    </tr>\n",
       "  </thead>\n",
       "  <tbody>\n",
       "    <tr>\n",
       "      <th>accommodates</th>\n",
       "      <td>0</td>\n",
       "      <td>0.0</td>\n",
       "    </tr>\n",
       "    <tr>\n",
       "      <th>bedrooms</th>\n",
       "      <td>0</td>\n",
       "      <td>0.0</td>\n",
       "    </tr>\n",
       "    <tr>\n",
       "      <th>bathrooms</th>\n",
       "      <td>0</td>\n",
       "      <td>0.0</td>\n",
       "    </tr>\n",
       "    <tr>\n",
       "      <th>beds</th>\n",
       "      <td>0</td>\n",
       "      <td>0.0</td>\n",
       "    </tr>\n",
       "    <tr>\n",
       "      <th>price</th>\n",
       "      <td>0</td>\n",
       "      <td>0.0</td>\n",
       "    </tr>\n",
       "    <tr>\n",
       "      <th>average_score_review</th>\n",
       "      <td>0</td>\n",
       "      <td>0.0</td>\n",
       "    </tr>\n",
       "    <tr>\n",
       "      <th>reviews_per_month</th>\n",
       "      <td>0</td>\n",
       "      <td>0.0</td>\n",
       "    </tr>\n",
       "    <tr>\n",
       "      <th>number_of_reviews</th>\n",
       "      <td>0</td>\n",
       "      <td>0.0</td>\n",
       "    </tr>\n",
       "    <tr>\n",
       "      <th>minimum_nights</th>\n",
       "      <td>0</td>\n",
       "      <td>0.0</td>\n",
       "    </tr>\n",
       "    <tr>\n",
       "      <th>maximum_nights</th>\n",
       "      <td>0</td>\n",
       "      <td>0.0</td>\n",
       "    </tr>\n",
       "    <tr>\n",
       "      <th>availability_365</th>\n",
       "      <td>0</td>\n",
       "      <td>0.0</td>\n",
       "    </tr>\n",
       "    <tr>\n",
       "      <th>instant_bookable</th>\n",
       "      <td>0</td>\n",
       "      <td>0.0</td>\n",
       "    </tr>\n",
       "    <tr>\n",
       "      <th>has_availability</th>\n",
       "      <td>0</td>\n",
       "      <td>0.0</td>\n",
       "    </tr>\n",
       "    <tr>\n",
       "      <th>host_total_listings_count</th>\n",
       "      <td>0</td>\n",
       "      <td>0.0</td>\n",
       "    </tr>\n",
       "    <tr>\n",
       "      <th>host_is_superhost</th>\n",
       "      <td>0</td>\n",
       "      <td>0.0</td>\n",
       "    </tr>\n",
       "  </tbody>\n",
       "</table>\n",
       "</div>"
      ],
      "text/plain": [
       "                           Total  Percent of missing\n",
       "accommodates               0      0.0               \n",
       "bedrooms                   0      0.0               \n",
       "bathrooms                  0      0.0               \n",
       "beds                       0      0.0               \n",
       "price                      0      0.0               \n",
       "average_score_review       0      0.0               \n",
       "reviews_per_month          0      0.0               \n",
       "number_of_reviews          0      0.0               \n",
       "minimum_nights             0      0.0               \n",
       "maximum_nights             0      0.0               \n",
       "availability_365           0      0.0               \n",
       "instant_bookable           0      0.0               \n",
       "has_availability           0      0.0               \n",
       "host_total_listings_count  0      0.0               \n",
       "host_is_superhost          0      0.0               "
      ]
     },
     "execution_count": 476,
     "metadata": {},
     "output_type": "execute_result"
    }
   ],
   "source": [
    "#Create a missing value summary table \n",
    "total = df3.isnull().sum().sort_values()\n",
    "percent = (df3.isnull().sum()/df3.isnull().count()).sort_values()\n",
    "missing_data = pd.concat([total, percent], axis=1, keys=['Total', 'Percent of missing'])\n",
    "missing_data.head(15)\n",
    "#AS from the table there no missing values or nan values"
   ]
  },
  {
   "cell_type": "markdown",
   "id": "d3dfa850-27df-4253-a934-657d2c9184a9",
   "metadata": {},
   "source": [
    "__Succeess indicator__\n",
    "--"
   ]
  },
  {
   "cell_type": "code",
   "execution_count": 477,
   "id": "44c27eae-01d7-42ec-9262-bbae5d0efd61",
   "metadata": {},
   "outputs": [
    {
     "name": "stdout",
     "output_type": "stream",
     "text": [
      "Number of Good listings: 12098\n",
      "Number of Bad listings: 75848\n"
     ]
    }
   ],
   "source": [
    "#For creating success indicator I have took price, average review score and number of reviews.\n",
    "price_threshold = df3['price'].mean() #Taking the mean of price.\n",
    "average_score_review = 4 \n",
    "#Creating a new column for getting good and bad based on threshold\n",
    "df3['success_indicator'] = np.where((df3['price'] > price_threshold) &\n",
    "                                     (df3['average_score_review'] > average_score_review) &\n",
    "                                    (df3['number_of_reviews'] > 2 ), 'Good', 'Bad')\n",
    "\n",
    "#Printing the count of good and bad based on the success_indicator\n",
    "count_good = df3[df3['success_indicator'] == 'Good'].shape[0]\n",
    "count_bad = df3[df3['success_indicator'] == 'Bad'].shape[0]\n",
    "\n",
    "#Displaying the counts of good and bad in a new column success_indicator.\n",
    "print(f'Number of Good listings: {count_good}')\n",
    "print(f'Number of Bad listings: {count_bad}')\n",
    "#df3['success_indicator'] = df3['success_indicator'].astype(bool)"
   ]
  },
  {
   "cell_type": "markdown",
   "id": "94f0b86a-b7f0-43e4-af14-4da594d9466a",
   "metadata": {},
   "source": [
    "The provided code demonstrates that 12k+ records are classified as 'good,' while 75k+ records are categorized as 'bad,' indicating a higher prevalence of negative counts in the listing."
   ]
  },
  {
   "cell_type": "markdown",
   "id": "6ac4c992-243e-4e4b-8bef-5855c69e11b9",
   "metadata": {},
   "source": [
    "__Modeling -1 Logistic Regression__\n",
    "--"
   ]
  },
  {
   "cell_type": "code",
   "execution_count": 478,
   "id": "80ab73e1-0300-4946-8052-db9a7e60f689",
   "metadata": {},
   "outputs": [
    {
     "data": {
      "text/html": [
       "<div>\n",
       "<style scoped>\n",
       "    .dataframe tbody tr th:only-of-type {\n",
       "        vertical-align: middle;\n",
       "    }\n",
       "\n",
       "    .dataframe tbody tr th {\n",
       "        vertical-align: top;\n",
       "    }\n",
       "\n",
       "    .dataframe thead th {\n",
       "        text-align: right;\n",
       "    }\n",
       "</style>\n",
       "<table border=\"1\" class=\"dataframe\">\n",
       "  <thead>\n",
       "    <tr style=\"text-align: right;\">\n",
       "      <th></th>\n",
       "      <th>accommodates</th>\n",
       "      <th>bedrooms</th>\n",
       "      <th>bathrooms</th>\n",
       "      <th>beds</th>\n",
       "      <th>price</th>\n",
       "      <th>average_score_review</th>\n",
       "      <th>reviews_per_month</th>\n",
       "      <th>number_of_reviews</th>\n",
       "      <th>minimum_nights</th>\n",
       "      <th>maximum_nights</th>\n",
       "      <th>availability_365</th>\n",
       "      <th>instant_bookable</th>\n",
       "      <th>has_availability</th>\n",
       "      <th>host_total_listings_count</th>\n",
       "      <th>host_is_superhost</th>\n",
       "      <th>neighbourhood_cleansed</th>\n",
       "      <th>success_indicator</th>\n",
       "    </tr>\n",
       "  </thead>\n",
       "  <tbody>\n",
       "    <tr>\n",
       "      <th>0</th>\n",
       "      <td>2</td>\n",
       "      <td>1.0</td>\n",
       "      <td>1.5</td>\n",
       "      <td>2.0</td>\n",
       "      <td>42.0</td>\n",
       "      <td>4.680000</td>\n",
       "      <td>1.45</td>\n",
       "      <td>216</td>\n",
       "      <td>2</td>\n",
       "      <td>730</td>\n",
       "      <td>217</td>\n",
       "      <td>t</td>\n",
       "      <td>t</td>\n",
       "      <td>1.0</td>\n",
       "      <td>f</td>\n",
       "      <td>Wandsworth</td>\n",
       "      <td>Bad</td>\n",
       "    </tr>\n",
       "    <tr>\n",
       "      <th>1</th>\n",
       "      <td>5</td>\n",
       "      <td>2.0</td>\n",
       "      <td>1.0</td>\n",
       "      <td>3.0</td>\n",
       "      <td>175.0</td>\n",
       "      <td>4.788571</td>\n",
       "      <td>0.27</td>\n",
       "      <td>38</td>\n",
       "      <td>5</td>\n",
       "      <td>240</td>\n",
       "      <td>40</td>\n",
       "      <td>f</td>\n",
       "      <td>t</td>\n",
       "      <td>2.0</td>\n",
       "      <td>f</td>\n",
       "      <td>Hammersmith and Fulham</td>\n",
       "      <td>Bad</td>\n",
       "    </tr>\n",
       "    <tr>\n",
       "      <th>2</th>\n",
       "      <td>1</td>\n",
       "      <td>1.0</td>\n",
       "      <td>1.0</td>\n",
       "      <td>1.0</td>\n",
       "      <td>79.0</td>\n",
       "      <td>4.740000</td>\n",
       "      <td>0.26</td>\n",
       "      <td>41</td>\n",
       "      <td>1</td>\n",
       "      <td>29</td>\n",
       "      <td>360</td>\n",
       "      <td>f</td>\n",
       "      <td>t</td>\n",
       "      <td>4.0</td>\n",
       "      <td>f</td>\n",
       "      <td>Islington</td>\n",
       "      <td>Bad</td>\n",
       "    </tr>\n",
       "    <tr>\n",
       "      <th>3</th>\n",
       "      <td>2</td>\n",
       "      <td>1.0</td>\n",
       "      <td>1.0</td>\n",
       "      <td>1.0</td>\n",
       "      <td>150.0</td>\n",
       "      <td>4.844286</td>\n",
       "      <td>0.56</td>\n",
       "      <td>94</td>\n",
       "      <td>7</td>\n",
       "      <td>30</td>\n",
       "      <td>73</td>\n",
       "      <td>f</td>\n",
       "      <td>t</td>\n",
       "      <td>12.0</td>\n",
       "      <td>f</td>\n",
       "      <td>Kensington and Chelsea</td>\n",
       "      <td>Bad</td>\n",
       "    </tr>\n",
       "    <tr>\n",
       "      <th>4</th>\n",
       "      <td>2</td>\n",
       "      <td>1.0</td>\n",
       "      <td>1.0</td>\n",
       "      <td>1.0</td>\n",
       "      <td>46.0</td>\n",
       "      <td>4.665714</td>\n",
       "      <td>1.21</td>\n",
       "      <td>180</td>\n",
       "      <td>4</td>\n",
       "      <td>365</td>\n",
       "      <td>196</td>\n",
       "      <td>f</td>\n",
       "      <td>t</td>\n",
       "      <td>1.0</td>\n",
       "      <td>t</td>\n",
       "      <td>Greenwich</td>\n",
       "      <td>Bad</td>\n",
       "    </tr>\n",
       "  </tbody>\n",
       "</table>\n",
       "</div>"
      ],
      "text/plain": [
       "   accommodates  bedrooms  bathrooms  beds  price  average_score_review  \\\n",
       "0  2             1.0       1.5        2.0   42.0   4.680000               \n",
       "1  5             2.0       1.0        3.0   175.0  4.788571               \n",
       "2  1             1.0       1.0        1.0   79.0   4.740000               \n",
       "3  2             1.0       1.0        1.0   150.0  4.844286               \n",
       "4  2             1.0       1.0        1.0   46.0   4.665714               \n",
       "\n",
       "   reviews_per_month  number_of_reviews  minimum_nights  maximum_nights  \\\n",
       "0  1.45               216                2               730              \n",
       "1  0.27               38                 5               240              \n",
       "2  0.26               41                 1               29               \n",
       "3  0.56               94                 7               30               \n",
       "4  1.21               180                4               365              \n",
       "\n",
       "   availability_365 instant_bookable has_availability  \\\n",
       "0  217               t                t                 \n",
       "1  40                f                t                 \n",
       "2  360               f                t                 \n",
       "3  73                f                t                 \n",
       "4  196               f                t                 \n",
       "\n",
       "   host_total_listings_count host_is_superhost  neighbourhood_cleansed  \\\n",
       "0  1.0                        f                 Wandsworth               \n",
       "1  2.0                        f                 Hammersmith and Fulham   \n",
       "2  4.0                        f                 Islington                \n",
       "3  12.0                       f                 Kensington and Chelsea   \n",
       "4  1.0                        t                 Greenwich                \n",
       "\n",
       "  success_indicator  \n",
       "0  Bad               \n",
       "1  Bad               \n",
       "2  Bad               \n",
       "3  Bad               \n",
       "4  Bad               "
      ]
     },
     "execution_count": 478,
     "metadata": {},
     "output_type": "execute_result"
    }
   ],
   "source": [
    "df3.head()"
   ]
  },
  {
   "cell_type": "code",
   "execution_count": 479,
   "id": "6088283e-4ef6-420e-9e6f-17dd3a3bc821",
   "metadata": {},
   "outputs": [
    {
     "name": "stderr",
     "output_type": "stream",
     "text": [
      "c:\\users\\nishu\\appdata\\local\\programs\\python\\python39\\lib\\site-packages\\sklearn\\linear_model\\_logistic.py:460: ConvergenceWarning: lbfgs failed to converge (status=1):\n",
      "STOP: TOTAL NO. of ITERATIONS REACHED LIMIT.\n",
      "\n",
      "Increase the number of iterations (max_iter) or scale the data as shown in:\n",
      "    https://scikit-learn.org/stable/modules/preprocessing.html\n",
      "Please also refer to the documentation for alternative solver options:\n",
      "    https://scikit-learn.org/stable/modules/linear_model.html#logistic-regression\n",
      "  n_iter_i = _check_optimize_result(\n"
     ]
    },
    {
     "name": "stdout",
     "output_type": "stream",
     "text": [
      "Accuracy: 0.87\n",
      "Classification Report:\n",
      "              precision    recall  f1-score   support\n",
      "\n",
      "         Bad       0.88      0.98      0.93     15217\n",
      "        Good       0.54      0.16      0.24      2373\n",
      "\n",
      "    accuracy                           0.87     17590\n",
      "   macro avg       0.71      0.57      0.59     17590\n",
      "weighted avg       0.84      0.87      0.84     17590\n",
      "\n"
     ]
    }
   ],
   "source": [
    "#Extracting the categorical and numerical columns\n",
    "categorical_cols = [ 'instant_bookable', 'has_availability', 'host_is_superhost', 'neighbourhood_cleansed']\n",
    "\n",
    "numerical_cols = ['accommodates', 'bedrooms', 'bathrooms', 'beds', 'price',\n",
    "                   'average_score_review', 'reviews_per_month', 'number_of_reviews',\n",
    "                   'minimum_nights', 'maximum_nights', 'availability_365',\n",
    "                   'host_total_listings_count']\n",
    "\n",
    "#Dropping the Target varible \n",
    "X = df3.drop('success_indicator', axis=1)\n",
    "y = df3['success_indicator']\n",
    "\n",
    "#Label encode categorical columns\n",
    "l = LabelEncoder()\n",
    "for col in categorical_cols:\n",
    "    X[col] = l.fit_transform(X[col])\n",
    "\n",
    "#Standardize numerical variables using StandardScaler which convert mean =0 and varia\n",
    "s = StandardScaler()\n",
    "X[numerical_cols] = s.fit_transform(X[numerical_cols])\n",
    "\n",
    "#Splitting the data into training and testing sets and using 20% for testing and 80% for training\n",
    "X_train, X_test, y_train, y_test = train_test_split(X, y, test_size=0.2, random_state=42)\n",
    "\n",
    "#Initialize the logistic regression model\n",
    "lmodel = LogisticRegression()\n",
    "\n",
    "#Fiting the model on the trai data\n",
    "lmodel.fit(X_train, y_train)\n",
    "\n",
    "#Making predictions on the test data\n",
    "y_pred = lmodel.predict(X_test)\n",
    "\n",
    "#Evaluating the model based on accuracy\n",
    "accuracy = accuracy_score(y_test, y_pred)\n",
    "classification_report_result = classification_report(y_test, y_pred)\n",
    "\n",
    "#Printing the accuracy of the model\n",
    "print(f'Accuracy: {accuracy:.2f}')\n",
    "print('Classification Report:')\n",
    "print(classification_report_result)\n"
   ]
  },
  {
   "cell_type": "raw",
   "id": "77db2e65-2f12-463c-95d6-1efe34bf3548",
   "metadata": {},
   "source": [
    "Explanation:\n",
    "Accuracy: 87% of the predictions were true, according to the model's overall accuracy of 0.87.\n",
    "Precision: The ratio of accurately predicted positive observations to all expected positives is precision. \n",
    "           The precision for the \"Good\" class is 0.54. This indicates that just 54% of all cases that were predicted as \"Good\" were in fact true    \n",
    "           positives.\n",
    "Recall :The ratio of accurately predicted positive observations to the total number of actual positive observations is known as recall.\n",
    "        The recall for the \"Good\" class is 0.16. This means that only 16% of all real \"Good\" cases were recognised by the model.\n",
    "Fscore: The precision and recall weighted average is known as the F1-score. It combines recall and precision into one statistic. The F1-score for the           \"Good\" class is 0.24.\n",
    "Support: The quantity of real occurrences of every class in the given dataset. There are 15,217 instances in the \"Bad\" class and 2,373 instances in the            \"Good\" class.\n",
    "Macro Avg: The precision, recall, and F1-score averages for all classes are determined by the macro average. The macro averages are 0.71, 0.57, and                0.59 for precision, recall, and F1-score, respectively.\n",
    "Weighted Avg: Using weights determined by the quantity of true instances in each class, the weighted average determines the average of the precision,                recall, and F1-score. The precision, recall, and F1-score weighted averages are 0.84, 0.87, and 0.84, respectively.\n",
    "The model shows high precision for the \"Bad\" class, indicating that when it predicts an instance as \"Bad,\" it is often correct.\n",
    "The recall for the \"Good\" class is low, suggesting that the model struggles to identify instances of \"Good\" listings."
   ]
  },
  {
   "cell_type": "markdown",
   "id": "dd03de8b-ec4c-4ad3-99ef-e65cf359187e",
   "metadata": {},
   "source": [
    "__Modeling-2 Decision Tree__\n",
    "-"
   ]
  },
  {
   "cell_type": "code",
   "execution_count": 480,
   "id": "c24b236a-7d40-4e35-8e6d-5bb897002c97",
   "metadata": {},
   "outputs": [
    {
     "name": "stdout",
     "output_type": "stream",
     "text": [
      "Accuracy: 1.00\n",
      "Classification Report:\n",
      "              precision    recall  f1-score   support\n",
      "\n",
      "         Bad       1.00      1.00      1.00     15217\n",
      "        Good       1.00      1.00      1.00      2373\n",
      "\n",
      "    accuracy                           1.00     17590\n",
      "   macro avg       1.00      1.00      1.00     17590\n",
      "weighted avg       1.00      1.00      1.00     17590\n",
      "\n",
      "[[15215     2]\n",
      " [    0  2373]]\n"
     ]
    }
   ],
   "source": [
    "# Using 20% for testing and 80% for training.X and y are define in above model\n",
    "#df3['success_indicator'] = df3['success_indicator'].astype(bool)\n",
    "X_train, X_test, y_train, y_test = train_test_split(X, y, test_size=0.2, random_state=42)\n",
    "\n",
    "#Defining the Decision Tree model\n",
    "model = DecisionTreeClassifier(random_state=42)\n",
    "\n",
    "#Fitting the model on the train data\n",
    "model.fit(X_train, y_train)\n",
    "#predecting on the test data\n",
    "y_pred = model.predict(X_test)\n",
    "\n",
    "#Run the model with accuray report and confusion matrix\n",
    "accuracy = accuracy_score(y_test, y_pred)\n",
    "class_report_result = classification_report(y_test, y_pred)\n",
    "confu_mat = confusion_matrix(y_test, y_pred)\n",
    "\n",
    "# Print the results\n",
    "print(f'Accuracy: {accuracy:.2f}')\n",
    "print('Classification Report:')\n",
    "print(class_report_result)\n",
    "print(confu_mat)\n"
   ]
  },
  {
   "cell_type": "raw",
   "id": "63897727-114a-4ea8-8a19-4b409aca2c50",
   "metadata": {},
   "source": [
    "Explanation :\n",
    "The above classification report shows that a binary classification model performs accurate, with an accuracy of 1.00 (100%).But there are some limitation.However, accuracy by alone could not be an accurate data for model evaluation in datasets that are unbalanced, meaning that one class has a greater number of occurrences than the other.Here bad class is more than good.The mode\n",
    "To ensure model generalization and avoid overfitting, we can use cross-validation and assess performance on an independent test set.\n",
    "The confusion matrix provides a more detailed breakdown of the model's predictions. It demonstrates that all other predictions are accurate, with the exception of two false positives—instances that were thought to be \"Bad\" but were actually \"Good\".\n",
    "The primary constraints of the analysis are the possibility of overfitting to the training set and dependence on precision when class imbalance exists. "
   ]
  },
  {
   "cell_type": "raw",
   "id": "fada21d2-b992-4a11-a7c9-6d349c88d1f2",
   "metadata": {},
   "source": [
    "Certain SVM (Support Vector Machines) variations, such Random Forest, contain features or methods to deal with class imbalance."
   ]
  },
  {
   "cell_type": "markdown",
   "id": "31423784-0fe6-46b2-8d23-dd28c9b84731",
   "metadata": {},
   "source": [
    "_Thank You_\n",
    "--"
   ]
  }
 ],
 "metadata": {
  "kernelspec": {
   "display_name": "Python 3",
   "language": "python",
   "name": "python3"
  },
  "language_info": {
   "codemirror_mode": {
    "name": "ipython",
    "version": 3
   },
   "file_extension": ".py",
   "mimetype": "text/x-python",
   "name": "python",
   "nbconvert_exporter": "python",
   "pygments_lexer": "ipython3",
   "version": "3.9.0"
  }
 },
 "nbformat": 4,
 "nbformat_minor": 5
}
